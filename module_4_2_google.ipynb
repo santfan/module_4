{
  "nbformat": 4,
  "nbformat_minor": 0,
  "metadata": {
    "colab": {
      "provenance": [],
      "authorship_tag": "ABX9TyPNGmwDeOuuiHsWInlnlncS",
      "include_colab_link": true
    },
    "kernelspec": {
      "name": "python3",
      "display_name": "Python 3"
    },
    "language_info": {
      "name": "python"
    }
  },
  "cells": [
    {
      "cell_type": "markdown",
      "metadata": {
        "id": "view-in-github",
        "colab_type": "text"
      },
      "source": [
        "<a href=\"https://colab.research.google.com/github/santfan/module_4/blob/main/module_4_2_google.ipynb\" target=\"_parent\"><img src=\"https://colab.research.google.com/assets/colab-badge.svg\" alt=\"Open In Colab\"/></a>"
      ]
    },
    {
      "cell_type": "code",
      "execution_count": 86,
      "metadata": {
        "id": "sUZQLRK2DtqM"
      },
      "outputs": [],
      "source": [
        "# Создадаим функцию test_function\n",
        "def test_function():\n",
        "  # Внутри функции создадим другую функцию inner_function\n",
        "  def inner_function():\n",
        "    # Пока у этой функции нет никаких других задач кроме как вывод сообщения\n",
        "    print('Я внутри функции inner_function')"
      ]
    },
    {
      "cell_type": "code",
      "source": [
        "# теперь попробуем вызвать функцию inner_function находясь в функции test_function\n",
        "def test_function():\n",
        "  def inner_function():\n",
        "    print('Я внутри функции inner_function')\n",
        "  # Вызов функции inner_function\n",
        "  inner_function()"
      ],
      "metadata": {
        "id": "GQLFt6MPE9fO"
      },
      "execution_count": 87,
      "outputs": []
    },
    {
      "cell_type": "code",
      "source": [
        "test_function()"
      ],
      "metadata": {
        "colab": {
          "base_uri": "https://localhost:8080/"
        },
        "id": "Ud2Qzv_pFojX",
        "outputId": "3bc5ba97-c721-4ff7-c87a-bc2ef25a8c6a"
      },
      "execution_count": 88,
      "outputs": [
        {
          "output_type": "stream",
          "name": "stdout",
          "text": [
            "Я внутри функции inner_function\n"
          ]
        }
      ]
    },
    {
      "cell_type": "code",
      "source": [
        "# Получим вывод сформированной функцией inner_function\n",
        "# Теперь попробуем вызвать функцию inner_function из глобального пространства имен\n",
        "inner_function()"
      ],
      "metadata": {
        "colab": {
          "base_uri": "https://localhost:8080/",
          "height": 176
        },
        "id": "D8w9iXfBFvo1",
        "outputId": "e9dbb4a0-f749-4d9e-fc7c-ee4acc4d37fb"
      },
      "execution_count": 67,
      "outputs": [
        {
          "output_type": "error",
          "ename": "NameError",
          "evalue": "name 'inner_function' is not defined",
          "traceback": [
            "\u001b[0;31m---------------------------------------------------------------------------\u001b[0m",
            "\u001b[0;31mNameError\u001b[0m                                 Traceback (most recent call last)",
            "\u001b[0;32m<ipython-input-67-4a522931fb30>\u001b[0m in \u001b[0;36m<cell line: 3>\u001b[0;34m()\u001b[0m\n\u001b[1;32m      1\u001b[0m \u001b[0;31m# Получим вывод сформированной функцией inner_function\u001b[0m\u001b[0;34m\u001b[0m\u001b[0;34m\u001b[0m\u001b[0m\n\u001b[1;32m      2\u001b[0m \u001b[0;31m# Теперь попробуем вызвать функцию inner_function из глобального пространства имен\u001b[0m\u001b[0;34m\u001b[0m\u001b[0;34m\u001b[0m\u001b[0m\n\u001b[0;32m----> 3\u001b[0;31m \u001b[0minner_function\u001b[0m\u001b[0;34m(\u001b[0m\u001b[0;34m)\u001b[0m\u001b[0;34m\u001b[0m\u001b[0;34m\u001b[0m\u001b[0m\n\u001b[0m",
            "\u001b[0;31mNameError\u001b[0m: name 'inner_function' is not defined"
          ]
        }
      ]
    },
    {
      "cell_type": "code",
      "source": [
        "# Получим сообщение об ошибке. Так как функция inner_function находится\n",
        "# Внутри локального пространства имен функции test_function"
      ],
      "metadata": {
        "id": "5z7zrynvH9TG"
      },
      "execution_count": 68,
      "outputs": []
    }
  ]
}